{
 "cells": [
  {
   "cell_type": "markdown",
   "id": "8e022740",
   "metadata": {},
   "source": [
    "## Projeto"
   ]
  },
  {
   "cell_type": "markdown",
   "id": "5afb5a0b",
   "metadata": {},
   "source": [
    "Importação da biblioteca e inicialização do banco"
   ]
  },
  {
   "cell_type": "code",
   "execution_count": null,
   "id": "a646d49c",
   "metadata": {},
   "outputs": [],
   "source": [
    "import pandas as pd\n",
    "import seaborn as sns\n",
    "import matplotlib.pyplot as plt\n",
    "from sklearn.datasets import load_iris\n",
    "\n",
    "iris = load_iris()\n",
    "df = pd.DataFrame(iris.data, columns=iris.feature_names)\n",
    "df[\"species\"] = iris.target\n",
    "df[\"species\"] = df[\"species\"].map({i: name for i, name in enumerate(iris.target_names)})\n",
    "df.head()"
   ]
  }
 ],
 "metadata": {
  "kernelspec": {
   "display_name": ".venv (3.13.7)",
   "language": "python",
   "name": "python3"
  },
  "language_info": {
   "name": "python",
   "version": "3.13.7"
  }
 },
 "nbformat": 4,
 "nbformat_minor": 5
}
